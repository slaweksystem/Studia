{
 "cells": [
  {
   "cell_type": "code",
   "execution_count": 14,
   "metadata": {},
   "outputs": [],
   "source": [
    "import numpy as np\n",
    "import matplotlib.pyplot as plt"
   ]
  },
  {
   "cell_type": "code",
   "execution_count": 12,
   "metadata": {},
   "outputs": [],
   "source": [
    "# nr of points\n",
    "n_points = 2\n",
    "# Radius\n",
    "r = 3\n",
    "# learnng reionforcment\n",
    "n = 0.5\n",
    "\n",
    "# min distance between points\n",
    "d_min = n\n",
    "\n",
    "# Range\n",
    "min_x = 0\n",
    "min_y = 0\n",
    "max_x = 10 + 3*r\n",
    "max_y = 6 + 3*r\n"
   ]
  },
  {
   "cell_type": "code",
   "execution_count": 30,
   "metadata": {},
   "outputs": [
    {
     "data": {
      "image/png": "[encoded data removed]",
      "text/plain": [
       "<Figure size 640x480 with 1 Axes>"
      ]
     },
     "metadata": {},
     "output_type": "display_data"
    }
   ],
   "source": [
    "def generate_random_points(n, r, d_min, min_x, min_y, max_x, max_y):\n",
    "\n",
    "    points_x = np.asarray((0,1))\n",
    "    points_y = np.asarray((0,1))\n",
    "\n",
    "    \n",
    "\n",
    "\n",
    "    return (points_x, points_y)\n",
    "\n",
    "points = generate_random_points(n_points, r, d_min, min_x, min_y, max_x, max_y)\n",
    "\n",
    "plt.figure()\n",
    "plt.plot(points[1], points[0], 'o')\n",
    "plt.show()"
   ]
  },
  {
   "cell_type": "code",
   "execution_count": null,
   "metadata": {},
   "outputs": [
    {
     "data": {
      "text/plain": [
       "0.5"
      ]
     },
     "execution_count": 6,
     "metadata": {},
     "output_type": "execute_result"
    }
   ],
   "source": []
  },
  {
   "cell_type": "code",
   "execution_count": null,
   "metadata": {},
   "outputs": [],
   "source": []
  }
 ],
 "metadata": {
  "kernelspec": {
   "display_name": "Python 3",
   "language": "python",
   "name": "python3"
  },
  "language_info": {
   "codemirror_mode": {
    "name": "ipython",
    "version": 3
   },
   "file_extension": ".py",
   "mimetype": "text/x-python",
   "name": "python",
   "nbconvert_exporter": "python",
   "pygments_lexer": "ipython3",
   "version": "3.12.7"
  }
 },
 "nbformat": 4,
 "nbformat_minor": 2
}
