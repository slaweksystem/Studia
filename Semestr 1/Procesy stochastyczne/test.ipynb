{
 "cells": [
  {
   "cell_type": "code",
   "execution_count": 1,
   "metadata": {},
   "outputs": [],
   "source": [
    "import numpy as np\n",
    "import matplotlib.pyplot as plt\n",
    "\n",
    "\n",
    "# Parametry symulacji\n",
    "sigma = 1.0             # Parametr sigma rozkładu Rayleigha\n",
    "sampling_freq = 10000   # Częstotliwość próbkowania w Hz\n",
    "duration = 1            # Czas trwania sygnału w sekundach\n",
    "num_samples = int(sampling_freq * duration)  # Liczba próbek\n",
    "\n",
    "\n",
    "# Generowanie szumu Rayleigha\n",
    "rayleigh_noise = np.random.rayleigh(scale=sigma, size=num_samples)"
   ]
  },
  {
   "cell_type": "code",
   "execution_count": 2,
   "metadata": {},
   "outputs": [],
   "source": [
    "import scipy.stats as stats\n",
    "\n",
    "\n",
    "# Obliczanie gęstości prawdopodobieństwa (PDF) dla wygenerowanego szumu Rayleigha\n",
    "pdf_values, bins = np.histogram(rayleigh_noise, bins=100, density=True)\n",
    "bin_centers = (bins[:-1] + bins[1:]) / 2  # Środkowe wartości przedziałów\n",
    "\n",
    "\n",
    "# Wzorcowa funkcja gęstości prawdopodobieństwa rozkładu Rayleigha dla porównania\n",
    "x = np.linspace(0, max(rayleigh_noise), 1000)\n",
    "rayleigh_pdf = stats.rayleigh.pdf(x, scale=sigma)"
   ]
  },
  {
   "cell_type": "code",
   "execution_count": 3,
   "metadata": {},
   "outputs": [],
   "source": [
    "# Obliczanie dystrybuanty (CDF) dla rozkładu Rayleigha na podstawie wygenerowanego szumu\n",
    "\n",
    "\n",
    "# Numeryczna aproksymacja CDF z histogramu\n",
    "rayleigh_cdf_empirical = np.cumsum(pdf_values * np.diff(bins))  \n",
    "\n",
    "\n",
    "# Teoretyczna dystrybuanta rozkładu Rayleigha\n",
    "rayleigh_cdf_theoretical = stats.rayleigh.cdf(x, scale=sigma)"
   ]
  },
  {
   "cell_type": "code",
   "execution_count": 5,
   "metadata": {},
   "outputs": [],
   "source": [
    "import pandas as pd\n",
    "\n"
   ]
  },
  {
   "cell_type": "code",
   "execution_count": 6,
   "metadata": {},
   "outputs": [
    {
     "name": "stdout",
     "output_type": "stream",
     "text": [
      "Srednia: 1.2545793071788083\n",
      "wariancja: 0.42849342536917057\n"
     ]
    },
    {
     "data": {
      "text/html": [
       "<div>\n",
       "<style scoped>\n",
       "    .dataframe tbody tr th:only-of-type {\n",
       "        vertical-align: middle;\n",
       "    }\n",
       "\n",
       "    .dataframe tbody tr th {\n",
       "        vertical-align: top;\n",
       "    }\n",
       "\n",
       "    .dataframe thead th {\n",
       "        text-align: right;\n",
       "    }\n",
       "</style>\n",
       "<table border=\"1\" class=\"dataframe\">\n",
       "  <thead>\n",
       "    <tr style=\"text-align: right;\">\n",
       "      <th></th>\n",
       "      <th>x</th>\n",
       "      <th>x - xsr</th>\n",
       "      <th>(x - xsr)^2</th>\n",
       "    </tr>\n",
       "  </thead>\n",
       "  <tbody>\n",
       "    <tr>\n",
       "      <th>0</th>\n",
       "      <td>2.487057</td>\n",
       "      <td>1.232478</td>\n",
       "      <td>1.519002</td>\n",
       "    </tr>\n",
       "    <tr>\n",
       "      <th>1</th>\n",
       "      <td>0.720874</td>\n",
       "      <td>-0.533705</td>\n",
       "      <td>0.284841</td>\n",
       "    </tr>\n",
       "    <tr>\n",
       "      <th>2</th>\n",
       "      <td>0.640349</td>\n",
       "      <td>-0.614231</td>\n",
       "      <td>0.377279</td>\n",
       "    </tr>\n",
       "    <tr>\n",
       "      <th>3</th>\n",
       "      <td>0.279165</td>\n",
       "      <td>-0.975415</td>\n",
       "      <td>0.951434</td>\n",
       "    </tr>\n",
       "    <tr>\n",
       "      <th>4</th>\n",
       "      <td>0.955944</td>\n",
       "      <td>-0.298636</td>\n",
       "      <td>0.089183</td>\n",
       "    </tr>\n",
       "    <tr>\n",
       "      <th>...</th>\n",
       "      <td>...</td>\n",
       "      <td>...</td>\n",
       "      <td>...</td>\n",
       "    </tr>\n",
       "    <tr>\n",
       "      <th>9995</th>\n",
       "      <td>0.477984</td>\n",
       "      <td>-0.776595</td>\n",
       "      <td>0.603101</td>\n",
       "    </tr>\n",
       "    <tr>\n",
       "      <th>9996</th>\n",
       "      <td>3.453541</td>\n",
       "      <td>2.198962</td>\n",
       "      <td>4.835434</td>\n",
       "    </tr>\n",
       "    <tr>\n",
       "      <th>9997</th>\n",
       "      <td>1.865699</td>\n",
       "      <td>0.611120</td>\n",
       "      <td>0.373467</td>\n",
       "    </tr>\n",
       "    <tr>\n",
       "      <th>9998</th>\n",
       "      <td>0.197821</td>\n",
       "      <td>-1.056758</td>\n",
       "      <td>1.116738</td>\n",
       "    </tr>\n",
       "    <tr>\n",
       "      <th>9999</th>\n",
       "      <td>0.767192</td>\n",
       "      <td>-0.487387</td>\n",
       "      <td>0.237546</td>\n",
       "    </tr>\n",
       "  </tbody>\n",
       "</table>\n",
       "<p>10000 rows × 3 columns</p>\n",
       "</div>"
      ],
      "text/plain": [
       "             x   x - xsr  (x - xsr)^2\n",
       "0     2.487057  1.232478     1.519002\n",
       "1     0.720874 -0.533705     0.284841\n",
       "2     0.640349 -0.614231     0.377279\n",
       "3     0.279165 -0.975415     0.951434\n",
       "4     0.955944 -0.298636     0.089183\n",
       "...        ...       ...          ...\n",
       "9995  0.477984 -0.776595     0.603101\n",
       "9996  3.453541  2.198962     4.835434\n",
       "9997  1.865699  0.611120     0.373467\n",
       "9998  0.197821 -1.056758     1.116738\n",
       "9999  0.767192 -0.487387     0.237546\n",
       "\n",
       "[10000 rows x 3 columns]"
      ]
     },
     "execution_count": 6,
     "metadata": {},
     "output_type": "execute_result"
    }
   ],
   "source": [
    "table = pd.DataFrame(rayleigh_noise, columns = ['x'])\n",
    "\n",
    "rayleigh_noise_mean = rayleigh_noise.mean()\n",
    "\n",
    "print(\"Srednia:\", rayleigh_noise_mean)\n",
    "\n",
    "table['x - xsr'] = table['x'] - rayleigh_noise_mean\n",
    "table['(x - xsr)^2'] = table['x - xsr']**2\n",
    "\n",
    "rayleigh_noise_ds = (table['(x - xsr)^2'].sum())/(len(rayleigh_noise)-1)\n",
    "\n",
    "print('wariancja:' ,rayleigh_noise_ds)\n",
    "\n",
    "table"
   ]
  },
  {
   "cell_type": "code",
   "execution_count": null,
   "metadata": {},
   "outputs": [
    {
     "data": {
      "text/plain": [
       "generator"
      ]
     },
     "execution_count": 5,
     "metadata": {},
     "output_type": "execute_result"
    }
   ],
   "source": []
  },
  {
   "cell_type": "code",
   "execution_count": null,
   "metadata": {},
   "outputs": [
    {
     "ename": "StopIteration",
     "evalue": "",
     "output_type": "error",
     "traceback": [
      "\u001b[1;31m---------------------------------------------------------------------------\u001b[0m",
      "\u001b[1;31mStopIteration\u001b[0m                             Traceback (most recent call last)",
      "Cell \u001b[1;32mIn[31], line 1\u001b[0m\n\u001b[1;32m----> 1\u001b[0m \u001b[38;5;28;43mnext\u001b[39;49m\u001b[43m(\u001b[49m\u001b[43ma\u001b[49m\u001b[43m)\u001b[49m\n",
      "\u001b[1;31mStopIteration\u001b[0m: "
     ]
    }
   ],
   "source": []
  },
  {
   "cell_type": "code",
   "execution_count": null,
   "metadata": {},
   "outputs": [],
   "source": []
  }
 ],
 "metadata": {
  "kernelspec": {
   "display_name": ".venv",
   "language": "python",
   "name": "python3"
  },
  "language_info": {
   "codemirror_mode": {
    "name": "ipython",
    "version": 3
   },
   "file_extension": ".py",
   "mimetype": "text/x-python",
   "name": "python",
   "nbconvert_exporter": "python",
   "pygments_lexer": "ipython3",
   "version": "3.12.7"
  }
 },
 "nbformat": 4,
 "nbformat_minor": 2
}
