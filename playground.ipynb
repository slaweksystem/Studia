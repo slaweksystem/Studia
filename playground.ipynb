{
 "cells": [
  {
   "cell_type": "code",
   "execution_count": 11,
   "metadata": {},
   "outputs": [
    {
     "name": "stdout",
     "output_type": "stream",
     "text": [
      "AB\n"
     ]
    }
   ],
   "source": [
    "def gcdOfStrings(str1, str2):\n",
    "    if str1 + str2 != str2 + str1:\n",
    "        return \"\"\n",
    "    if len(str1) == len(str2):\n",
    "        return str1\n",
    "    if len(str1) > len(str2):\n",
    "        return gcdOfStrings(str1[len(str2):], str2)\n",
    "    return gcdOfStrings(str1, str2[len(str1):])\n",
    "\n",
    "str1 = \"ABABAB\"\n",
    "str2 = \"ABAB\"\n",
    "print(gcdOfStrings(str1, str2))\n"
   ]
  },
  {
   "cell_type": "code",
   "execution_count": null,
   "metadata": {},
   "outputs": [
    {
     "name": "stdout",
     "output_type": "stream",
     "text": [
      "<class 'type'>\n",
      "<class '__main__.Foo'>\n"
     ]
    }
   ],
   "source": [
    "a = [0, 4, 6, 9, 1 , 6, 10]"
   ]
  },
  {
   "cell_type": "code",
   "execution_count": null,
   "metadata": {},
   "outputs": [],
   "source": []
  },
  {
   "cell_type": "code",
   "execution_count": null,
   "metadata": {},
   "outputs": [],
   "source": []
  }
 ],
 "metadata": {
  "kernelspec": {
   "display_name": ".venv",
   "language": "python",
   "name": "python3"
  },
  "language_info": {
   "codemirror_mode": {
    "name": "ipython",
    "version": 3
   },
   "file_extension": ".py",
   "mimetype": "text/x-python",
   "name": "python",
   "nbconvert_exporter": "python",
   "pygments_lexer": "ipython3",
   "version": "3.12.8"
  }
 },
 "nbformat": 4,
 "nbformat_minor": 2
}
